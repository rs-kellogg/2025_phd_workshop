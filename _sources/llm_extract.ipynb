{
 "cells": [
  {
   "cell_type": "markdown",
   "id": "9a531df0",
   "metadata": {},
   "source": [
    "# LLM Extraction\n",
    "\n",
    "Under construction ..."
   ]
  }
 ],
 "metadata": {
  "language_info": {
   "name": "python"
  }
 },
 "nbformat": 4,
 "nbformat_minor": 5
}
