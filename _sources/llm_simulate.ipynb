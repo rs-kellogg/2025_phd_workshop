{
 "cells": [
  {
   "cell_type": "markdown",
   "id": "f3171b72",
   "metadata": {},
   "source": [
    "# LLM Simulation\n",
    "\n",
    "Under construction ..."
   ]
  }
 ],
 "metadata": {
  "language_info": {
   "name": "python"
  }
 },
 "nbformat": 4,
 "nbformat_minor": 5
}
