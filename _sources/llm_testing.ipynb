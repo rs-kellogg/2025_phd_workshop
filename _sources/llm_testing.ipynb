{
 "cells": [
  {
   "cell_type": "markdown",
   "id": "c7135220",
   "metadata": {},
   "source": [
    "#  LLM Testing \n",
    "\n",
    "## LLM Testing List\n",
    "![llm_scheme](images/llm_scheme.png)\n",
    "- Structure & Formatting\n",
    "  * Length control: Ensure response respect token limits.\n",
    "  * Output structure enforcement: Validate that responses follow required formats (e.g., bullet points, tables, JSON).\n",
    "\n",
    "- Consistency & Stability\n",
    "  * Reproducibility: Set temperature and seed value.\n",
    "  * Prompt sensitivity: Assess how changes in wording affect results.\n",
    "  * Regression testing: Detect output changes over model versions.\n",
    "\n",
    "- Correctness: Check against expected answers or external source (exact match or similarity)\n",
    "\n",
    "## Prevent Hallucinations\n",
    "- Give the model an option NOT TO ANSWER\n",
    "- Ask for EVIDENCE!\n",
    "- More advanced: ask the same question in multiple ways or request several answers that can be used to cross-validate each other\n",
    "\n",
    "\n",
    "## Check Correctness\n",
    "![test_scheme](./images/testing_scheme_v2.png)\n",
    "\n",
    "- Generate a Golden Set\n",
    "  * Manually curate a reference (golden) dataset\n",
    "  * Develop a function to extract reference data from a database\n",
    "- Comparison Techniques\n",
    "  * **Exact Match**: Direct match for labels like True/False, multiple choice (A/B/C/D), or numeric values\n",
    "  * **Partial Match**: Verify presence of key phrases within the response\n",
    "  * **Semantic Similarity**: Compute cosine similarity between embedding vectors to assess meaning-based closeness\n"
   ]
  },
  {
   "cell_type": "markdown",
   "id": "c88b4c6a",
   "metadata": {},
   "source": [
    "## Lab 2: Extract severance package information from text\n",
    "* Testing strategy: Compare exact values\n"
   ]
  },
  {
   "cell_type": "markdown",
   "id": "9bcba843",
   "metadata": {},
   "source": [
    "## Lab 3: Predict product category\n",
    "* Testing strategy 1: Compare strings between LLM response and golden set\n",
    "* Testing strategy 2: Compute cosine similarity between embedding vectors to assess meaning-based closeness\n"
   ]
  }
 ],
 "metadata": {
  "kernelspec": {
   "display_name": "Python 3",
   "language": "python",
   "name": "python3"
  },
  "language_info": {
   "codemirror_mode": {
    "name": "ipython",
    "version": 3
   },
   "file_extension": ".py",
   "mimetype": "text/x-python",
   "name": "python",
   "nbconvert_exporter": "python",
   "pygments_lexer": "ipython3",
   "version": "3.12.1"
  }
 },
 "nbformat": 4,
 "nbformat_minor": 5
}
