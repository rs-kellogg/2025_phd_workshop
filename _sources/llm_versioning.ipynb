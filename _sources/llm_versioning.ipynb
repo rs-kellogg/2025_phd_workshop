{
 "cells": [
  {
   "cell_type": "markdown",
   "id": "1d9fc127",
   "metadata": {},
   "source": [
    "# LLM Logging \n",
    "\n",
    "## Logging Your Work \n",
    "\n",
    "### Why Logging Matters\n",
    "\n",
    "* Reproducibility: What prompt did I use?\n",
    "* Accountability: When did I run this?\n",
    "* Version tracking: What changed since last run?\n",
    "\n",
    "###  Example Task: Log a Simple LLM Prompt\n",
    "- Save log files `logfile_YYYY-MM-DD.jsonl` to `logs` folder.\n",
    "- Use `.jsonl` (JSON Lines) format for logging experiments, easy to parse later\n",
    "    - Write\n",
    "    ```python\n",
    "    log_entry = {\n",
    "        \"timestamp\": now.isoformat(),\n",
    "        \"model\": llm_model,\n",
    "        \"temperature\": temperature,\n",
    "        \"max_tokens\": max_tokens,\n",
    "        \"prompt\": prompt,\n",
    "        \"output\": output,\n",
    "    }\n",
    "\n",
    "    with open(output_file, \"a\") as f:\n",
    "        f.write(json.dumps(log_entry) + \"\\n\")\n",
    "    ```\n",
    "\n",
    "    - Read\n",
    "    ```python\n",
    "    import pandas as pd\n",
    "    df = pd.read_json(\"logfile_2025-07-01.jsonl\", lines=True)\n",
    "    ```\n",
    "\n",
    "### Lab 1: Generate marketing materials\n",
    "- Track changes in model output over time or when prompts/models change.\n",
    "- Modify to read prompt from file and add file to git \n",
    "    ```bash\n",
    "    git add prompt.txt\n",
    "    git commit -m \"add prompt text file\"\n",
    "    ```\n"
   ]
  }
 ],
 "metadata": {
  "kernelspec": {
   "display_name": "Python 3",
   "language": "python",
   "name": "python3"
  },
  "language_info": {
   "codemirror_mode": {
    "name": "ipython",
    "version": 3
   },
   "file_extension": ".py",
   "mimetype": "text/x-python",
   "name": "python",
   "nbconvert_exporter": "python",
   "pygments_lexer": "ipython3",
   "version": "3.12.1"
  }
 },
 "nbformat": 4,
 "nbformat_minor": 5
}
