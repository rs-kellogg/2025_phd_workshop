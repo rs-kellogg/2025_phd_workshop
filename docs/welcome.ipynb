{
 "cells": [
  {
   "cell_type": "markdown",
   "id": "889d0185",
   "metadata": {},
   "source": [
    "# Welcome to 2025 PhD Workshop!\n",
    "\n"
   ]
  }
 ],
 "metadata": {
  "language_info": {
   "name": "python"
  }
 },
 "nbformat": 4,
 "nbformat_minor": 5
}
